{
 "cells": [
  {
   "cell_type": "code",
   "execution_count": null,
   "id": "ffaf101e",
   "metadata": {},
   "outputs": [],
   "source": [
    "import pandas as pd\n",
    "import numpy as np\n",
    "import seaborn as sns\n",
    "import matplotlib.pyplot as plt\n"
   ]
  },
  {
   "cell_type": "code",
   "execution_count": null,
   "id": "706470dd",
   "metadata": {},
   "outputs": [],
   "source": [
    "ac = pd.read_csv(\"C:/Files/VS/Codes/Intro to ai and ml/activity.csv\")"
   ]
  },
  {
   "cell_type": "code",
   "execution_count": null,
   "id": "474c2d9a",
   "metadata": {},
   "outputs": [],
   "source": [
    "ac.head()"
   ]
  },
  {
   "cell_type": "code",
   "execution_count": null,
   "id": "be8cf33a",
   "metadata": {},
   "outputs": [],
   "source": [
    "ac.info()"
   ]
  },
  {
   "cell_type": "code",
   "execution_count": null,
   "id": "72d0eb5c",
   "metadata": {},
   "outputs": [],
   "source": [
    "x = ac.drop(columns = [\"user\", \"activity\", \"timestamp\"])\n",
    "y = ac[\"activity\"]"
   ]
  },
  {
   "cell_type": "code",
   "execution_count": null,
   "id": "d0f3b3ce",
   "metadata": {},
   "outputs": [],
   "source": [
    "from sklearn.model_selection import train_test_split\n",
    "x_train, x_test, y_train, y_test = train_test_split(x, y, test_size = 0.2)"
   ]
  },
  {
   "cell_type": "code",
   "execution_count": null,
   "id": "19c0ce99",
   "metadata": {},
   "outputs": [],
   "source": [
    "from sklearn.ensemble import GradientBoostingClassifier\n",
    "gbc = GradientBoostingClassifier(n_estimators = 100)\n",
    "model = gbc.fit(x_train, y_train)\n",
    "pred = model.predict(x_test)\n"
   ]
  },
  {
   "cell_type": "code",
   "execution_count": null,
   "id": "c7603162",
   "metadata": {},
   "outputs": [],
   "source": [
    "from sklearn.metrics import accuracy_score\n",
    "acc = accuracy_score(y_test, pred)*100"
   ]
  },
  {
   "cell_type": "code",
   "execution_count": null,
   "id": "5e24dbe0",
   "metadata": {},
   "outputs": [],
   "source": [
    "print(f\"Accuracy: {acc}%\")"
   ]
  },
  {
   "cell_type": "code",
   "execution_count": null,
   "id": "27a119de",
   "metadata": {},
   "outputs": [],
   "source": []
  }
 ],
 "metadata": {
  "kernelspec": {
   "display_name": "Python 3 (ipykernel)",
   "language": "python",
   "name": "python3"
  },
  "language_info": {
   "codemirror_mode": {
    "name": "ipython",
    "version": 3
   },
   "file_extension": ".py",
   "mimetype": "text/x-python",
   "name": "python",
   "nbconvert_exporter": "python",
   "pygments_lexer": "ipython3",
   "version": "3.9.13"
  }
 },
 "nbformat": 4,
 "nbformat_minor": 5
}
