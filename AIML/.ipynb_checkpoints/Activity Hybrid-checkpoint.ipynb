{
 "cells": [
  {
   "cell_type": "code",
   "execution_count": 3,
   "id": "e16428a6",
   "metadata": {},
   "outputs": [],
   "source": [
    "import pandas as pd\n",
    "import seaborn as sns\n",
    "import numpy as np\n",
    "import matplotlib.pyplot as plt\n",
    "\n",
    "import warnings\n",
    "warnings.filterwarnings('ignore')"
   ]
  },
  {
   "cell_type": "code",
   "execution_count": 4,
   "id": "93eb8e97",
   "metadata": {},
   "outputs": [],
   "source": [
    "ac = pd.read_csv(\"C:/Files/VS/Codes/Offline/Intro to ai and ml/activity.csv\")"
   ]
  },
  {
   "cell_type": "code",
   "execution_count": 5,
   "id": "7e4db652",
   "metadata": {},
   "outputs": [],
   "source": [
    "x = ac.drop(columns = [\"user\", \"activity\", \"timestamp\"])\n",
    "y = ac[\"activity\"]"
   ]
  },
  {
   "cell_type": "code",
   "execution_count": 6,
   "id": "a76b2772",
   "metadata": {},
   "outputs": [],
   "source": [
    "from sklearn.model_selection import train_test_split\n",
    "x_train1, x_test1, y_train1, y_test1 = train_test_split(x, y, test_size = 0.22)\n",
    "x_train2, x_test2, y_train2, y_test2 = train_test_split(x, y, test_size = 0.22)"
   ]
  },
  {
   "cell_type": "code",
   "execution_count": null,
   "id": "be78996a",
   "metadata": {},
   "outputs": [],
   "source": [
    "from sklearn.linear_model import LogisticRegression\n",
    "model1 = LogisticRegression()\n",
    "model1.fit(x_train1, y_train1)\n",
    "\n",
    "from sklearn.ensemble import RandomForestClassifier\n",
    "model2 = RandomForestClassifier(n_estimators = 100)\n",
    "model2.fit(x_train2, y_train2)"
   ]
  },
  {
   "cell_type": "code",
   "execution_count": null,
   "id": "c830e5b9",
   "metadata": {},
   "outputs": [],
   "source": [
    "pred1 = model1.predict(x_test1)\n",
    "pred2 = model2.predict(x_test2)\n",
    "pred3 = pred1 + pred2 "
   ]
  },
  {
   "cell_type": "code",
   "execution_count": null,
   "id": "adb2eb65",
   "metadata": {},
   "outputs": [],
   "source": [
    "from sklearn.metrics import accuracy_score\n",
    "acc = accuracy_score(y_test1, pred3)*100\n",
    "# acc2 = accuracy_score(y_test2, pred2)*100\n",
    "\n",
    "# accF = (acc1+acc2)/2"
   ]
  },
  {
   "cell_type": "code",
   "execution_count": null,
   "id": "e783183a",
   "metadata": {},
   "outputs": [],
   "source": [
    "# print(f\"Accuracy of Model 1 : {acc1}%, Accuracy of Model 2: {acc2}% and Both Combined : {accF}%\")"
   ]
  },
  {
   "cell_type": "code",
   "execution_count": null,
   "id": "c83a3749",
   "metadata": {},
   "outputs": [],
   "source": [
    "print(f\"Accuracy of Model is {acc}%)"
   ]
  },
  {
   "cell_type": "code",
   "execution_count": null,
   "id": "7d00ecc2",
   "metadata": {},
   "outputs": [],
   "source": []
  }
 ],
 "metadata": {
  "kernelspec": {
   "display_name": "Python 3 (ipykernel)",
   "language": "python",
   "name": "python3"
  },
  "language_info": {
   "codemirror_mode": {
    "name": "ipython",
    "version": 3
   },
   "file_extension": ".py",
   "mimetype": "text/x-python",
   "name": "python",
   "nbconvert_exporter": "python",
   "pygments_lexer": "ipython3",
   "version": "3.9.13"
  }
 },
 "nbformat": 4,
 "nbformat_minor": 5
}
