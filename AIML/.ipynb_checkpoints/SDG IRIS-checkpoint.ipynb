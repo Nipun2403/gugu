{
 "cells": [
  {
   "cell_type": "code",
   "execution_count": 9,
   "id": "1e98ecb7",
   "metadata": {},
   "outputs": [],
   "source": [
    "import pandas as pd\n",
    "import numpy as np\n",
    "import seaborn as sns\n",
    "import matplotlib.pyplot as plt\n"
   ]
  },
  {
   "cell_type": "code",
   "execution_count": 10,
   "id": "bb0285db",
   "metadata": {},
   "outputs": [],
   "source": [
    "iris = pd.read_csv(\"C:\\Files\\VS\\Codes\\offline\\Intro to ai and ml\\iris.csv\")"
   ]
  },
  {
   "cell_type": "code",
   "execution_count": 11,
   "id": "56bcf624",
   "metadata": {},
   "outputs": [],
   "source": [
    "x = iris.drop(columns = \"species\")\n",
    "y = iris['species']\n",
    "\n",
    "from sklearn.model_selection import train_test_split\n",
    "x_train, x_test, y_train, y_test = train_test_split(x, y, test_size = 0.2)\n"
   ]
  },
  {
   "cell_type": "code",
   "execution_count": 12,
   "id": "ea06b6a2",
   "metadata": {},
   "outputs": [],
   "source": [
    "from sklearn.linear_model import SGDClassifier"
   ]
  },
  {
   "cell_type": "code",
   "execution_count": 13,
   "id": "cfff73f3",
   "metadata": {},
   "outputs": [],
   "source": [
    "model = SGDClassifier()"
   ]
  },
  {
   "cell_type": "code",
   "execution_count": 14,
   "id": "1eb6c72b",
   "metadata": {},
   "outputs": [],
   "source": [
    "model.fit(x_train, y_train)\n",
    "pred = model.predict(x_test)"
   ]
  },
  {
   "cell_type": "code",
   "execution_count": 15,
   "id": "eabdf30b",
   "metadata": {},
   "outputs": [
    {
     "name": "stdout",
     "output_type": "stream",
     "text": [
      "accuracy 83.33333333333334\n"
     ]
    }
   ],
   "source": [
    "from sklearn.metrics import accuracy_score\n",
    "print(\"accuracy\", accuracy_score(pred, y_test)*100)\n"
   ]
  },
  {
   "cell_type": "code",
   "execution_count": null,
   "id": "100c68a1",
   "metadata": {},
   "outputs": [],
   "source": []
  }
 ],
 "metadata": {
  "kernelspec": {
   "display_name": "Python 3 (ipykernel)",
   "language": "python",
   "name": "python3"
  },
  "language_info": {
   "codemirror_mode": {
    "name": "ipython",
    "version": 3
   },
   "file_extension": ".py",
   "mimetype": "text/x-python",
   "name": "python",
   "nbconvert_exporter": "python",
   "pygments_lexer": "ipython3",
   "version": "3.9.13"
  }
 },
 "nbformat": 4,
 "nbformat_minor": 5
}
