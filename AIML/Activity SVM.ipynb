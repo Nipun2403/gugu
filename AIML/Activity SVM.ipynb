{
 "cells": [
  {
   "cell_type": "code",
   "execution_count": 3,
   "id": "60feed9b",
   "metadata": {},
   "outputs": [],
   "source": [
    "#Importing Libraries\n",
    "import pandas as pd\n",
    "import numpy as np\n",
    "from sklearn.preprocessing import StandardScaler\n",
    "from sklearn.model_selection import train_test_split\n",
    "from sklearn import svm\n",
    "from sklearn.metrics import accuracy_score"
   ]
  },
  {
   "cell_type": "code",
   "execution_count": 4,
   "id": "7fba2f21",
   "metadata": {},
   "outputs": [],
   "source": [
    "ac = pd.read_csv(\"C:/Files/VS/Codes/offline/Intro to ai and ml/activity.csv\")"
   ]
  },
  {
   "cell_type": "code",
   "execution_count": 5,
   "id": "04e51213",
   "metadata": {},
   "outputs": [],
   "source": [
    "x = ac.drop(columns = [\"user\", \"activity\", \"timestamp\"])\n",
    "y = ac[\"activity\"]"
   ]
  },
  {
   "cell_type": "code",
   "execution_count": 6,
   "id": "fef0c657",
   "metadata": {},
   "outputs": [],
   "source": [
    "#Standidizing Data\n",
    "scaler = StandardScaler()"
   ]
  },
  {
   "cell_type": "code",
   "execution_count": 7,
   "id": "6eb241e7",
   "metadata": {},
   "outputs": [],
   "source": [
    "scaler.fit(x)\n",
    "std_data = scaler.transform(x)"
   ]
  },
  {
   "cell_type": "code",
   "execution_count": 8,
   "id": "6a8bcc20",
   "metadata": {},
   "outputs": [],
   "source": [
    "x = std_data\n",
    "y = ac['activity']"
   ]
  },
  {
   "cell_type": "code",
   "execution_count": 9,
   "id": "5a8a2cdf",
   "metadata": {},
   "outputs": [],
   "source": [
    "x_train, x_test, y_train, y_test = train_test_split(x, y, test_size = 0.2)"
   ]
  },
  {
   "cell_type": "code",
   "execution_count": null,
   "id": "2779e92f",
   "metadata": {},
   "outputs": [],
   "source": [
    "model = svm.SVC(kernel = 'linear')\n",
    "model.fit(x_train, y_train)\n",
    "pred = model.predict(x_test)\n",
    "accuracy = accuracy_score(pred, y_test)*100"
   ]
  },
  {
   "cell_type": "code",
   "execution_count": null,
   "id": "40245dad",
   "metadata": {},
   "outputs": [],
   "source": [
    "print(\"Accuracy of the Given Model is : \", accuracy, \"%\")"
   ]
  },
  {
   "cell_type": "code",
   "execution_count": null,
   "id": "13b02190",
   "metadata": {},
   "outputs": [],
   "source": []
  }
 ],
 "metadata": {
  "kernelspec": {
   "display_name": "Python 3 (ipykernel)",
   "language": "python",
   "name": "python3"
  },
  "language_info": {
   "codemirror_mode": {
    "name": "ipython",
    "version": 3
   },
   "file_extension": ".py",
   "mimetype": "text/x-python",
   "name": "python",
   "nbconvert_exporter": "python",
   "pygments_lexer": "ipython3",
   "version": "3.9.13"
  }
 },
 "nbformat": 4,
 "nbformat_minor": 5
}
