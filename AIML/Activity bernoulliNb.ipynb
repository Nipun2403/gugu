{
 "cells": [
  {
   "cell_type": "code",
   "execution_count": 18,
   "id": "7b2402fa",
   "metadata": {},
   "outputs": [],
   "source": [
    "import pandas as pd\n",
    "import seaborn as sns\n",
    "import numpy as np\n",
    "import matplotlib.pyplot as plt\n",
    "\n",
    "import warnings\n",
    "warnings.filterwarnings('ignore')"
   ]
  },
  {
   "cell_type": "code",
   "execution_count": 19,
   "id": "0f0a2c33",
   "metadata": {},
   "outputs": [],
   "source": [
    "ac = pd.read_csv(\"C:/Files/VS/Codes/Intro to ai and ml/activity.csv\")"
   ]
  },
  {
   "cell_type": "code",
   "execution_count": 20,
   "id": "a2f5941c",
   "metadata": {},
   "outputs": [],
   "source": [
    "x = ac.drop(columns = [\"user\", \"activity\", \"timestamp\"], axis = 1)\n",
    "y = ac[\"activity\"]"
   ]
  },
  {
   "cell_type": "code",
   "execution_count": 21,
   "id": "4e2838de",
   "metadata": {},
   "outputs": [],
   "source": [
    "from sklearn.model_selection import train_test_split\n",
    "x_train, x_test, y_train, y_test = train_test_split(x, y, test_size = 0.2)"
   ]
  },
  {
   "cell_type": "code",
   "execution_count": 22,
   "id": "15c8ef84",
   "metadata": {},
   "outputs": [],
   "source": [
    "from sklearn.naive_bayes import BernoulliNB\n",
    "model=BernoulliNB()\n",
    "model.fit(x_train,y_train)\n",
    "pred = model.predict(x_test)"
   ]
  },
  {
   "cell_type": "code",
   "execution_count": 23,
   "id": "c094e6ef",
   "metadata": {},
   "outputs": [],
   "source": [
    "from sklearn.metrics import accuracy_score\n",
    "acc = accuracy_score(y_test, pred)*100"
   ]
  },
  {
   "cell_type": "code",
   "execution_count": 24,
   "id": "df08edf0",
   "metadata": {},
   "outputs": [
    {
     "name": "stdout",
     "output_type": "stream",
     "text": [
      "Accuracy : 46.35696821515892%\n"
     ]
    }
   ],
   "source": [
    "print(f\"Accuracy : {acc}%\")"
   ]
  },
  {
   "cell_type": "code",
   "execution_count": null,
   "id": "b60342a5",
   "metadata": {},
   "outputs": [],
   "source": []
  }
 ],
 "metadata": {
  "kernelspec": {
   "display_name": "Python 3 (ipykernel)",
   "language": "python",
   "name": "python3"
  },
  "language_info": {
   "codemirror_mode": {
    "name": "ipython",
    "version": 3
   },
   "file_extension": ".py",
   "mimetype": "text/x-python",
   "name": "python",
   "nbconvert_exporter": "python",
   "pygments_lexer": "ipython3",
   "version": "3.9.13"
  }
 },
 "nbformat": 4,
 "nbformat_minor": 5
}
