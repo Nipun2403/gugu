{
 "cells": [
  {
   "cell_type": "code",
   "execution_count": 1,
   "id": "31d8fe0b",
   "metadata": {},
   "outputs": [],
   "source": [
    "import numpy as np\n",
    "import pandas as pd\n",
    "import matplotlib.pyplot as plt\n",
    "import seaborn as sns\n",
    "%matplotlib inline\n",
    "sns.set(color_codes = True)\n",
    "\n",
    "\n",
    "import warnings\n",
    "warnings.filterwarnings('ignore')"
   ]
  },
  {
   "cell_type": "code",
   "execution_count": 3,
   "id": "0c6c7af8",
   "metadata": {},
   "outputs": [],
   "source": [
    "data = pd.read_csv(\"C:/Files/VS/Codes/Offline/Intro to ai and ml/activity.csv\")"
   ]
  },
  {
   "cell_type": "code",
   "execution_count": 4,
   "id": "668c0326",
   "metadata": {},
   "outputs": [
    {
     "data": {
      "text/html": [
       "<div>\n",
       "<style scoped>\n",
       "    .dataframe tbody tr th:only-of-type {\n",
       "        vertical-align: middle;\n",
       "    }\n",
       "\n",
       "    .dataframe tbody tr th {\n",
       "        vertical-align: top;\n",
       "    }\n",
       "\n",
       "    .dataframe thead th {\n",
       "        text-align: right;\n",
       "    }\n",
       "</style>\n",
       "<table border=\"1\" class=\"dataframe\">\n",
       "  <thead>\n",
       "    <tr style=\"text-align: right;\">\n",
       "      <th></th>\n",
       "      <th>user</th>\n",
       "      <th>activity</th>\n",
       "      <th>timestamp</th>\n",
       "      <th>x-axis</th>\n",
       "      <th>y-axis</th>\n",
       "      <th>z-axis</th>\n",
       "    </tr>\n",
       "  </thead>\n",
       "  <tbody>\n",
       "    <tr>\n",
       "      <th>0</th>\n",
       "      <td>1</td>\n",
       "      <td>Walking</td>\n",
       "      <td>4991922345000</td>\n",
       "      <td>0.69</td>\n",
       "      <td>10.80</td>\n",
       "      <td>-2.03</td>\n",
       "    </tr>\n",
       "    <tr>\n",
       "      <th>1</th>\n",
       "      <td>1</td>\n",
       "      <td>Walking</td>\n",
       "      <td>4991972333000</td>\n",
       "      <td>6.85</td>\n",
       "      <td>7.44</td>\n",
       "      <td>-0.50</td>\n",
       "    </tr>\n",
       "    <tr>\n",
       "      <th>2</th>\n",
       "      <td>1</td>\n",
       "      <td>Walking</td>\n",
       "      <td>4992022351000</td>\n",
       "      <td>0.93</td>\n",
       "      <td>5.63</td>\n",
       "      <td>-0.50</td>\n",
       "    </tr>\n",
       "    <tr>\n",
       "      <th>3</th>\n",
       "      <td>1</td>\n",
       "      <td>Walking</td>\n",
       "      <td>4992072339000</td>\n",
       "      <td>-2.11</td>\n",
       "      <td>5.01</td>\n",
       "      <td>-0.69</td>\n",
       "    </tr>\n",
       "    <tr>\n",
       "      <th>4</th>\n",
       "      <td>1</td>\n",
       "      <td>Walking</td>\n",
       "      <td>4992122358000</td>\n",
       "      <td>-4.59</td>\n",
       "      <td>4.29</td>\n",
       "      <td>-1.95</td>\n",
       "    </tr>\n",
       "  </tbody>\n",
       "</table>\n",
       "</div>"
      ],
      "text/plain": [
       "   user activity      timestamp  x-axis  y-axis  z-axis\n",
       "0     1  Walking  4991922345000    0.69   10.80   -2.03\n",
       "1     1  Walking  4991972333000    6.85    7.44   -0.50\n",
       "2     1  Walking  4992022351000    0.93    5.63   -0.50\n",
       "3     1  Walking  4992072339000   -2.11    5.01   -0.69\n",
       "4     1  Walking  4992122358000   -4.59    4.29   -1.95"
      ]
     },
     "execution_count": 4,
     "metadata": {},
     "output_type": "execute_result"
    }
   ],
   "source": [
    "data.head()"
   ]
  },
  {
   "cell_type": "code",
   "execution_count": 5,
   "id": "839831aa",
   "metadata": {},
   "outputs": [
    {
     "data": {
      "text/plain": [
       "<bound method NDFrame.tail of          user  activity       timestamp  x-axis  y-axis    z-axis\n",
       "0           1   Walking   4991922345000    0.69   10.80 -2.030000\n",
       "1           1   Walking   4991972333000    6.85    7.44 -0.500000\n",
       "2           1   Walking   4992022351000    0.93    5.63 -0.500000\n",
       "3           1   Walking   4992072339000   -2.11    5.01 -0.690000\n",
       "4           1   Walking   4992122358000   -4.59    4.29 -1.950000\n",
       "...       ...       ...             ...     ...     ...       ...\n",
       "1073618    36  Standing  15049012250000   -0.91    9.43  2.533385\n",
       "1073619    36  Standing  15049062268000   -1.18    9.51  2.492524\n",
       "1073620    36  Standing  15049112287000   -1.50    9.53  2.533385\n",
       "1073621    36  Standing  15049162275000   -2.07    8.77  2.179256\n",
       "1073622    36  Standing  15049212262000   -2.14    9.89  3.255263\n",
       "\n",
       "[1073623 rows x 6 columns]>"
      ]
     },
     "execution_count": 5,
     "metadata": {},
     "output_type": "execute_result"
    }
   ],
   "source": [
    "data.tail\n"
   ]
  },
  {
   "cell_type": "code",
   "execution_count": 6,
   "id": "68ba01e1",
   "metadata": {},
   "outputs": [
    {
     "data": {
      "text/plain": [
       "<bound method DataFrame.info of          user  activity       timestamp  x-axis  y-axis    z-axis\n",
       "0           1   Walking   4991922345000    0.69   10.80 -2.030000\n",
       "1           1   Walking   4991972333000    6.85    7.44 -0.500000\n",
       "2           1   Walking   4992022351000    0.93    5.63 -0.500000\n",
       "3           1   Walking   4992072339000   -2.11    5.01 -0.690000\n",
       "4           1   Walking   4992122358000   -4.59    4.29 -1.950000\n",
       "...       ...       ...             ...     ...     ...       ...\n",
       "1073618    36  Standing  15049012250000   -0.91    9.43  2.533385\n",
       "1073619    36  Standing  15049062268000   -1.18    9.51  2.492524\n",
       "1073620    36  Standing  15049112287000   -1.50    9.53  2.533385\n",
       "1073621    36  Standing  15049162275000   -2.07    8.77  2.179256\n",
       "1073622    36  Standing  15049212262000   -2.14    9.89  3.255263\n",
       "\n",
       "[1073623 rows x 6 columns]>"
      ]
     },
     "execution_count": 6,
     "metadata": {},
     "output_type": "execute_result"
    }
   ],
   "source": [
    "data.info"
   ]
  },
  {
   "cell_type": "code",
   "execution_count": 7,
   "id": "063a92bf",
   "metadata": {},
   "outputs": [
    {
     "data": {
      "text/plain": [
       "(1073623, 6)"
      ]
     },
     "execution_count": 7,
     "metadata": {},
     "output_type": "execute_result"
    }
   ],
   "source": [
    "data.shape"
   ]
  },
  {
   "cell_type": "code",
   "execution_count": 12,
   "id": "36dabc9f",
   "metadata": {},
   "outputs": [
    {
     "name": "stderr",
     "output_type": "stream",
     "text": [
      "*c* argument looks like a single numeric RGB or RGBA sequence, which should be avoided as value-mapping will have precedence in case its length matches with *x* & *y*.  Please use the *color* keyword-argument or provide a 2D array with a single row if you intend to specify the same RGB or RGBA value for all points.\n"
     ]
    },
    {
     "data": {
      "text/plain": [
       "<function matplotlib.pyplot.show(close=None, block=None)>"
      ]
     },
     "execution_count": 12,
     "metadata": {},
     "output_type": "execute_result"
    },
    {
     "data": {
      "image/png": "[encoded data removed]",
      "text/plain": [
       "<Figure size 640x480 with 1 Axes>"
      ]
     },
     "metadata": {},
     "output_type": "display_data"
    }
   ],
   "source": [
    "he=data.plot(kind=\"scatter\",x=\"x-axis\",y=\"activity\")\n",
    "he.set_title(\"graph with x axis\")\n",
    "plt.show"
   ]
  },
  {
   "cell_type": "code",
   "execution_count": 13,
   "id": "28dccfe1",
   "metadata": {},
   "outputs": [
    {
     "name": "stderr",
     "output_type": "stream",
     "text": [
      "*c* argument looks like a single numeric RGB or RGBA sequence, which should be avoided as value-mapping will have precedence in case its length matches with *x* & *y*.  Please use the *color* keyword-argument or provide a 2D array with a single row if you intend to specify the same RGB or RGBA value for all points.\n"
     ]
    },
    {
     "data": {
      "text/plain": [
       "<function matplotlib.pyplot.show(close=None, block=None)>"
      ]
     },
     "execution_count": 13,
     "metadata": {},
     "output_type": "execute_result"
    },
    {
     "data": {
      "image/png": "[encoded data removed]",
      "text/plain": [
       "<Figure size 640x480 with 1 Axes>"
      ]
     },
     "metadata": {},
     "output_type": "display_data"
    }
   ],
   "source": [
    "he=data.plot(kind=\"scatter\",x=\"y-axis\",y=\"activity\")\n",
    "he.set_title(\"graph with y_axis\")\n",
    "plt.show"
   ]
  },
  {
   "cell_type": "code",
   "execution_count": 14,
   "id": "46cc5125",
   "metadata": {},
   "outputs": [],
   "source": [
    "x=data.drop(columns=[\"user\",\"activity\", \"timestamp\"])"
   ]
  },
  {
   "cell_type": "code",
   "execution_count": 16,
   "id": "6f46f03f",
   "metadata": {},
   "outputs": [],
   "source": [
    "y=data[\"activity\"]"
   ]
  },
  {
   "cell_type": "code",
   "execution_count": 17,
   "id": "6c5d2869",
   "metadata": {},
   "outputs": [],
   "source": [
    "from sklearn.model_selection import train_test_split"
   ]
  },
  {
   "cell_type": "code",
   "execution_count": 5,
   "id": "9b2f1b68",
   "metadata": {},
   "outputs": [
    {
     "ename": "NameError",
     "evalue": "name 'train_test_split' is not defined",
     "output_type": "error",
     "traceback": [
      "\u001b[1;31m---------------------------------------------------------------------------\u001b[0m",
      "\u001b[1;31mNameError\u001b[0m                                 Traceback (most recent call last)",
      "\u001b[1;32m~\\AppData\\Local\\Temp\\ipykernel_13592\\206238450.py\u001b[0m in \u001b[0;36m<module>\u001b[1;34m\u001b[0m\n\u001b[1;32m----> 1\u001b[1;33m \u001b[0mx_train\u001b[0m\u001b[1;33m,\u001b[0m\u001b[0mx_test\u001b[0m\u001b[1;33m,\u001b[0m\u001b[0my_train\u001b[0m\u001b[1;33m,\u001b[0m\u001b[0my_test\u001b[0m\u001b[1;33m=\u001b[0m\u001b[0mtrain_test_split\u001b[0m\u001b[1;33m(\u001b[0m\u001b[0mx\u001b[0m\u001b[1;33m,\u001b[0m\u001b[0my\u001b[0m\u001b[1;33m,\u001b[0m\u001b[0mtest_size\u001b[0m\u001b[1;33m=\u001b[0m\u001b[1;36m0.5\u001b[0m\u001b[1;33m)\u001b[0m\u001b[1;33m\u001b[0m\u001b[1;33m\u001b[0m\u001b[0m\n\u001b[0m",
      "\u001b[1;31mNameError\u001b[0m: name 'train_test_split' is not defined"
     ]
    }
   ],
   "source": [
    "x_train,x_test,y_train,y_test=train_test_split(x,y,test_size=0.5) "
   ]
  },
  {
   "cell_type": "code",
   "execution_count": null,
   "id": "78feeddc",
   "metadata": {},
   "outputs": [],
   "source": [
    "print(x_train.head())"
   ]
  },
  {
   "cell_type": "code",
   "execution_count": 6,
   "id": "4d963cb6",
   "metadata": {},
   "outputs": [
    {
     "ename": "NameError",
     "evalue": "name 'y_train' is not defined",
     "output_type": "error",
     "traceback": [
      "\u001b[1;31m---------------------------------------------------------------------------\u001b[0m",
      "\u001b[1;31mNameError\u001b[0m                                 Traceback (most recent call last)",
      "\u001b[1;32m~\\AppData\\Local\\Temp\\ipykernel_13592\\2411901824.py\u001b[0m in \u001b[0;36m<module>\u001b[1;34m\u001b[0m\n\u001b[1;32m----> 1\u001b[1;33m \u001b[0mprint\u001b[0m\u001b[1;33m(\u001b[0m\u001b[0my_train\u001b[0m\u001b[1;33m.\u001b[0m\u001b[0mhead\u001b[0m\u001b[1;33m(\u001b[0m\u001b[1;33m)\u001b[0m\u001b[1;33m)\u001b[0m\u001b[1;33m\u001b[0m\u001b[1;33m\u001b[0m\u001b[0m\n\u001b[0m\u001b[0;32m      2\u001b[0m \u001b[0mprint\u001b[0m\u001b[1;33m(\u001b[0m\u001b[0mx_test\u001b[0m\u001b[1;33m.\u001b[0m\u001b[0mhead\u001b[0m\u001b[1;33m(\u001b[0m\u001b[1;33m)\u001b[0m\u001b[1;33m)\u001b[0m\u001b[1;33m\u001b[0m\u001b[1;33m\u001b[0m\u001b[0m\n\u001b[0;32m      3\u001b[0m \u001b[0mprint\u001b[0m\u001b[1;33m(\u001b[0m\u001b[0mx_test\u001b[0m\u001b[1;33m.\u001b[0m\u001b[0mhead\u001b[0m\u001b[1;33m(\u001b[0m\u001b[1;33m)\u001b[0m\u001b[1;33m)\u001b[0m\u001b[1;33m\u001b[0m\u001b[1;33m\u001b[0m\u001b[0m\n",
      "\u001b[1;31mNameError\u001b[0m: name 'y_train' is not defined"
     ]
    }
   ],
   "source": [
    "print(y_train.head())\n",
    "print(x_test.head())\n",
    "print(x_test.head())"
   ]
  },
  {
   "cell_type": "code",
   "execution_count": 7,
   "id": "1ee81357",
   "metadata": {},
   "outputs": [],
   "source": [
    "from sklearn.ensemble import AdaBoostClassifier\n",
    "ada = AdaBoostClassifier(n_estimators=70)"
   ]
  },
  {
   "cell_type": "code",
   "execution_count": 22,
   "id": "74e1a27c",
   "metadata": {},
   "outputs": [],
   "source": [
    "model=ada.fit(x_train,y_train)\n",
    "pred=model.predict(x_test)"
   ]
  },
  {
   "cell_type": "code",
   "execution_count": 24,
   "id": "0c6fadbe",
   "metadata": {},
   "outputs": [],
   "source": [
    "from sklearn.metrics import accuracy_score\n",
    "acc=accuracy_score(y_test,pred)*100\n"
   ]
  },
  {
   "cell_type": "code",
   "execution_count": 25,
   "id": "bec9fb73",
   "metadata": {},
   "outputs": [
    {
     "name": "stdout",
     "output_type": "stream",
     "text": [
      "accuracy 48.70881359878915\n"
     ]
    }
   ],
   "source": [
    "print(\"accuracy\",acc)"
   ]
  },
  {
   "cell_type": "code",
   "execution_count": null,
   "id": "02635a30",
   "metadata": {},
   "outputs": [],
   "source": []
  }
 ],
 "metadata": {
  "kernelspec": {
   "display_name": "Python 3 (ipykernel)",
   "language": "python",
   "name": "python3"
  },
  "language_info": {
   "codemirror_mode": {
    "name": "ipython",
    "version": 3
   },
   "file_extension": ".py",
   "mimetype": "text/x-python",
   "name": "python",
   "nbconvert_exporter": "python",
   "pygments_lexer": "ipython3",
   "version": "3.9.13"
  }
 },
 "nbformat": 4,
 "nbformat_minor": 5
}
